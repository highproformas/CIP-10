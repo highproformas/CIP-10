{
 "cells": [
  {
   "cell_type": "code",
   "execution_count": 2,
   "outputs": [
    {
     "name": "stdout",
     "text": [
      "Setup Wiki GDP Scraper\n"
     ],
     "output_type": "stream"
    }
   ],
   "source": [
    "from cip.scraper import WikiGPDScraper\n",
    "\n",
    "gdp = WikiGPDScraper()\n",
    "soup = gdp.scrape()"
   ],
   "metadata": {
    "collapsed": false,
    "pycharm": {
     "name": "#%%\n",
     "is_executing": false
    }
   }
  },
  {
   "cell_type": "code",
   "execution_count": 39,
   "metadata": {
    "collapsed": true,
    "pycharm": {
     "is_executing": false
    }
   },
   "outputs": [],
   "source": [
    "import pandas as pd\n",
    "data = []\n",
    "for idx, table in enumerate(soup.findAll(name='table',attrs={'class':'wikitable sortable'})):\n",
    "    relevant = False\n",
    "    # There are multiple tables, not all of which are relevant\n",
    "    for headers in table.findAll(name='th'):\n",
    "        # The relevant tables contain a column 'Int$'\n",
    "        if headers.text.strip() == 'Int$':\n",
    "            relevant = True\n",
    "    if relevant:\n",
    "        # get the data (skipping the first td as it is not relevant)\n",
    "        rows = []\n",
    "        for row in table.select(selector='tr'):\n",
    "            cells = row.select(selector='td')[1:]\n",
    "            if len(cells) >= 2:\n",
    "                name = ((cells[0]).select(selector='a')[0]).text.strip()\n",
    "                amount = (cells[1]).text.strip()\n",
    "                rows.append({'table': idx, 'name': name, 'amount': amount})\n",
    "        if len(rows) > 0:\n",
    "            data.extend(rows)\n",
    "df = pd.DataFrame(data, columns=['table', 'name', 'amount'])\n",
    "df.to_csv('./data/gdp.csv', sep='|', header=True, index=False)\n",
    "\n",
    "            "
   ]
  },
  {
   "cell_type": "code",
   "execution_count": null,
   "outputs": [],
   "source": [
    "\n"
   ],
   "metadata": {
    "collapsed": false,
    "pycharm": {
     "name": "#%%\n"
    }
   }
  }
 ],
 "metadata": {
  "kernelspec": {
   "name": "pycharm-a460ec9a",
   "language": "python",
   "display_name": "PyCharm (CIP-Project-10)"
  },
  "language_info": {
   "codemirror_mode": {
    "name": "ipython",
    "version": 2
   },
   "file_extension": ".py",
   "mimetype": "text/x-python",
   "name": "python",
   "nbconvert_exporter": "python",
   "pygments_lexer": "ipython2",
   "version": "2.7.6"
  },
  "pycharm": {
   "stem_cell": {
    "cell_type": "raw",
    "source": [],
    "metadata": {
     "collapsed": false
    }
   }
  }
 },
 "nbformat": 4,
 "nbformat_minor": 0
}