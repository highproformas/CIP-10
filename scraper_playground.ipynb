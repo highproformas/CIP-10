{
 "cells": [
  {
   "cell_type": "code",
   "execution_count": 2,
   "outputs": [
    {
     "name": "stdout",
     "text": [
      "Setup Wiki GDP Scraper\n"
     ],
     "output_type": "stream"
    }
   ],
   "source": [
    "from cip.scraper import WikiGPDScraper\n",
    "\n",
    "gdp = WikiGPDScraper()\n",
    "soup = gdp.scrape()"
   ],
   "metadata": {
    "collapsed": false,
    "pycharm": {
     "name": "#%%\n",
     "is_executing": false
    }
   }
  },
  {
   "cell_type": "code",
   "execution_count": 39,
   "metadata": {
    "collapsed": true,
    "pycharm": {
     "is_executing": false
    }
   },
   "outputs": [],
   "source": [
    "import pandas as pd\n",
    "data = []\n",
    "for idx, table in enumerate(soup.findAll(name='table',attrs={'class':'wikitable sortable'})):\n",
    "    relevant = False\n",
    "    # There are multiple tables, not all of which are relevant\n",
    "    for headers in table.findAll(name='th'):\n",
    "        # The relevant tables contain a column 'Int$'\n",
    "        if headers.text.strip() == 'Int$':\n",
    "            relevant = True\n",
    "    if relevant:\n",
    "        # get the data (skipping the first td as it is not relevant)\n",
    "        rows = []\n",
    "        for row in table.select(selector='tr'):\n",
    "            cells = row.select(selector='td')[1:]\n",
    "            if len(cells) >= 2:\n",
    "                name = ((cells[0]).select(selector='a')[0]).text.strip()\n",
    "                amount = (cells[1]).text.strip()\n",
    "                rows.append({'table': idx, 'name': name, 'amount': amount})\n",
    "        if len(rows) > 0:\n",
    "            data.extend(rows)\n",
    "df = pd.DataFrame(data, columns=['table', 'name', 'amount'])\n",
    "df.to_csv('./data/gdp.csv', sep='|', header=True, index=False)\n",
    "\n",
    "            "
   ]
  },
  {
   "cell_type": "code",
   "execution_count": 3,
   "outputs": [],
   "source": [
    "from cip.scraper import Scraper\n",
    "\n",
    "scraper = Scraper(url='https://en.wikipedia.org/wiki/List_of_countries_by_total_health_expenditure_per_capita')\n",
    "soup = scraper.scrape()"
   ],
   "metadata": {
    "collapsed": false,
    "pycharm": {
     "name": "#%%\n",
     "is_executing": false
    }
   }
  },
  {
   "cell_type": "code",
   "execution_count": 8,
   "outputs": [
    {
     "data": {
      "text/plain": "          name   2000   2005   2010   2015\n0  Afghanistan      :     99    132    184\n1      Albania    258    364    481    774\n2      Algeria    282    355    645  1,031\n3      Andorra  3,049  4,271  4,819  5,949\n4       Angola     70    140    158    196",
      "text/html": "<div>\n<style scoped>\n    .dataframe tbody tr th:only-of-type {\n        vertical-align: middle;\n    }\n\n    .dataframe tbody tr th {\n        vertical-align: top;\n    }\n\n    .dataframe thead th {\n        text-align: right;\n    }\n</style>\n<table border=\"1\" class=\"dataframe\">\n  <thead>\n    <tr style=\"text-align: right;\">\n      <th></th>\n      <th>name</th>\n      <th>2000</th>\n      <th>2005</th>\n      <th>2010</th>\n      <th>2015</th>\n    </tr>\n  </thead>\n  <tbody>\n    <tr>\n      <th>0</th>\n      <td>Afghanistan</td>\n      <td>:</td>\n      <td>99</td>\n      <td>132</td>\n      <td>184</td>\n    </tr>\n    <tr>\n      <th>1</th>\n      <td>Albania</td>\n      <td>258</td>\n      <td>364</td>\n      <td>481</td>\n      <td>774</td>\n    </tr>\n    <tr>\n      <th>2</th>\n      <td>Algeria</td>\n      <td>282</td>\n      <td>355</td>\n      <td>645</td>\n      <td>1,031</td>\n    </tr>\n    <tr>\n      <th>3</th>\n      <td>Andorra</td>\n      <td>3,049</td>\n      <td>4,271</td>\n      <td>4,819</td>\n      <td>5,949</td>\n    </tr>\n    <tr>\n      <th>4</th>\n      <td>Angola</td>\n      <td>70</td>\n      <td>140</td>\n      <td>158</td>\n      <td>196</td>\n    </tr>\n  </tbody>\n</table>\n</div>"
     },
     "metadata": {},
     "output_type": "execute_result",
     "execution_count": 8
    }
   ],
   "source": [
    "import pandas as pd\n",
    "data = []\n",
    "table = soup.find(id='WHO2')\n",
    "\n",
    "for row in table.select(selector='tr'):\n",
    "    cells = row.select(selector='td')\n",
    "    \n",
    "    if len(cells) >= 4:\n",
    "        name = ((cells[0]).select(selector='a')[0]).text.strip()\n",
    "        value_2k = (cells[1]).text.strip()\n",
    "        value_2k5 = (cells[2]).text.strip()\n",
    "        value_2k10 = (cells[3]).text.strip()\n",
    "        value_2k15 = (cells[4]).text.strip()\n",
    "        data.append({'name': name, '2000': value_2k, '2005': value_2k5, '2010': value_2k10, '2015': value_2k15})\n",
    "df = pd.DataFrame(data, columns=['name', '2000', '2005', '2010', '2015'])\n",
    "df.head()    \n",
    "df.to_csv('./data/health_raw.csv', sep='|', header=True, index=False)\n",
    "print('Health Expenditure Scrape done!')\n",
    "\n"
   ],
   "metadata": {
    "collapsed": false,
    "pycharm": {
     "name": "#%%\n",
     "is_executing": false
    }
   }
  }
 ],
 "metadata": {
  "kernelspec": {
   "name": "pycharm-a460ec9a",
   "language": "python",
   "display_name": "PyCharm (CIP-Project-10)"
  },
  "language_info": {
   "codemirror_mode": {
    "name": "ipython",
    "version": 2
   },
   "file_extension": ".py",
   "mimetype": "text/x-python",
   "name": "python",
   "nbconvert_exporter": "python",
   "pygments_lexer": "ipython2",
   "version": "2.7.6"
  },
  "pycharm": {
   "stem_cell": {
    "cell_type": "raw",
    "source": [],
    "metadata": {
     "collapsed": false
    }
   }
  }
 },
 "nbformat": 4,
 "nbformat_minor": 0
}